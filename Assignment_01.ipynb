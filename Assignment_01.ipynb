{
 "cells": [
  {
   "cell_type": "code",
   "execution_count": 1,
   "metadata": {
    "colab": {
     "base_uri": "https://localhost:8080/"
    },
    "id": "W5TJJDk4BF1n",
    "outputId": "4d9054c3-91af-47d0-f1c5-686bb549554f"
   },
   "outputs": [
    {
     "name": "stdout",
     "output_type": "stream",
     "text": [
      "Empty Array:\n",
      "[[6.70051742e-310 2.07820453e-316 1.58799105e-003]\n",
      " [1.04070582e+002 6.82036969e+006 5.58806667e-315]\n",
      " [4.24701441e-297 1.92005165e+021 1.25813616e+026]]\n",
      "\n",
      "Full Array:\n",
      "[[5 5 5]\n",
      " [5 5 5]\n",
      " [5 5 5]]\n"
     ]
    }
   ],
   "source": [
    "#1. Create an empty and a full array of size 3x3.\n",
    "import numpy as np\n",
    "\n",
    "# Create an empty array of size 3x3\n",
    "empty_array = np.empty((3, 3))\n",
    "\n",
    "# Create a full array of size 3x3 with a specific value (let's say 5)\n",
    "full_array = np.full((3, 3), 5)\n",
    "\n",
    "print(\"Empty Array:\")\n",
    "print(empty_array)\n",
    "\n",
    "print(\"\\nFull Array:\")\n",
    "print(full_array)\n"
   ]
  },
  {
   "cell_type": "code",
   "execution_count": 2,
   "metadata": {
    "colab": {
     "base_uri": "https://localhost:8080/"
    },
    "id": "cXOPfFTJESsA",
    "outputId": "89eb7117-86e8-4fd1-ccc2-a3ffe186c5dd"
   },
   "outputs": [
    {
     "name": "stdout",
     "output_type": "stream",
     "text": [
      "Random Array:\n",
      "[ 0.54879023  1.06772211  0.90068879  0.5866814  -0.72832568  0.15851731\n",
      " -0.31892903 -1.91889169 -1.41613312 -0.10569762 -0.12895469 -1.76076295\n",
      " -0.1402584   2.07293394  0.85579928  0.55915034  2.0659726  -1.44314485\n",
      "  1.07517568  0.78097062  0.68632272  0.55924884  1.68573564  0.84795041\n",
      " -1.64176851]\n"
     ]
    }
   ],
   "source": [
    "# 2. Generate an array of 25 random numbers sampled from a standard normal\n",
    "# distribution.\n",
    "import numpy as np\n",
    "\n",
    "# Generate an array of 25 random numbers sampled from a standard normal distribution\n",
    "random_array = np.random.randn(25)\n",
    "\n",
    "print(\"Random Array:\")\n",
    "print(random_array)\n"
   ]
  },
  {
   "cell_type": "code",
   "execution_count": 13,
   "metadata": {
    "colab": {
     "base_uri": "https://localhost:8080/"
    },
    "id": "11XY41J4EsdL",
    "outputId": "ccf55346-a8fc-4586-a29e-cffada007197"
   },
   "outputs": [
    {
     "name": "stdout",
     "output_type": "stream",
     "text": [
      "Dot Product: 32\n"
     ]
    }
   ],
   "source": [
    "#3. Find Dot product of two arrays.\n",
    "import numpy as np\n",
    "\n",
    "# Create two arrays\n",
    "array1 = np.array([1, 2, 3])\n",
    "array2 = np.array([4, 5, 6])\n",
    "\n",
    "# Find the dot product\n",
    "dot_product = np.dot(array1, array2)\n",
    "\n",
    "print(\"Dot Product:\", dot_product)\n"
   ]
  },
  {
   "cell_type": "code",
   "execution_count": 14,
   "metadata": {
    "colab": {
     "base_uri": "https://localhost:8080/"
    },
    "id": "CRAX86npE-hA",
    "outputId": "7976d94b-f816-48a9-a585-12aa65ab5851"
   },
   "outputs": [
    {
     "name": "stdout",
     "output_type": "stream",
     "text": [
      "Sorted along the row:\n",
      "[[ 1  3  7]\n",
      " [ 2  3 10]\n",
      " [ 5  6  7]]\n",
      "\n",
      "Sorted along the column:\n",
      "[[ 3  3  1]\n",
      " [ 5  6  2]\n",
      " [10  7  7]]\n",
      "\n",
      "Sorted as a whole:\n",
      "[ 1  2  3  3  5  6  7  7 10]\n"
     ]
    }
   ],
   "source": [
    "#4. Sort the below array along the row, along the column and as a whole.\n",
    "# [3, 7, 1]\n",
    "# [10, 3, 2]\n",
    "# [5, 6, 7]\n",
    "\n",
    "import numpy as np\n",
    "\n",
    "# Create the array\n",
    "array = np.array([[3, 7, 1],\n",
    "                  [10, 3, 2],\n",
    "                  [5, 6, 7]])\n",
    "\n",
    "# Sort along the row (axis=1)\n",
    "sorted_row = np.sort(array, axis=1)\n",
    "\n",
    "# Sort along the column (axis=0)\n",
    "sorted_column = np.sort(array, axis=0)\n",
    "\n",
    "# Sort the array as a whole\n",
    "sorted_whole = np.sort(array, axis=None)\n",
    "\n",
    "print(\"Sorted along the row:\")\n",
    "print(sorted_row)\n",
    "\n",
    "print(\"\\nSorted along the column:\")\n",
    "print(sorted_column)\n",
    "\n",
    "print(\"\\nSorted as a whole:\")\n",
    "print(sorted_whole)\n"
   ]
  },
  {
   "cell_type": "code",
   "execution_count": 15,
   "metadata": {
    "colab": {
     "base_uri": "https://localhost:8080/"
    },
    "id": "6_hf3teVGayw",
    "outputId": "e26ad334-8f49-4f7b-a7cf-70607fc4f48f"
   },
   "outputs": [
    {
     "name": "stdout",
     "output_type": "stream",
     "text": [
      "List of Arrays:\n",
      "Array 1: [1 2 3]\n",
      "Array 2: [4 5 6]\n",
      "Array 3: [7 8 9]\n",
      "\n",
      "Mean of Each Array:\n",
      "Array 1 Mean: 2.0\n",
      "Array 2 Mean: 5.0\n",
      "Array 3 Mean: 8.0\n"
     ]
    }
   ],
   "source": [
    "# 5. Make a list of 3 numpy arrays and find the mean of all the numpy arrays and output\n",
    "# them as a list.\n",
    "import numpy as np\n",
    "\n",
    "# Create a list of 3 NumPy arrays\n",
    "array1 = np.array([1, 2, 3])\n",
    "array2 = np.array([4, 5, 6])\n",
    "array3 = np.array([7, 8, 9])\n",
    "\n",
    "array_list = [array1, array2, array3]\n",
    "\n",
    "# Calculate the mean of each array\n",
    "mean_list = [np.mean(arr) for arr in array_list]\n",
    "\n",
    "print(\"List of Arrays:\")\n",
    "for i, arr in enumerate(array_list, start=1):\n",
    "    print(f\"Array {i}:\", arr)\n",
    "\n",
    "print(\"\\nMean of Each Array:\")\n",
    "for i, mean in enumerate(mean_list, start=1):\n",
    "    print(f\"Array {i} Mean:\", mean)\n"
   ]
  },
  {
   "cell_type": "code",
   "execution_count": 16,
   "metadata": {
    "colab": {
     "base_uri": "https://localhost:8080/"
    },
    "id": "TPwQHU12IvLe",
    "outputId": "ae95941b-df9a-4e30-9924-bfdd6d00610f"
   },
   "outputs": [
    {
     "name": "stdout",
     "output_type": "stream",
     "text": [
      "Original String Array:\n",
      "['PHP C# Python C Java C++']\n",
      "\n",
      "Split Result as a List:\n",
      "['PHP', 'C#', 'Python', 'C', 'Java', 'C++']\n"
     ]
    }
   ],
   "source": [
    "# 6. Make a numpy array containing the string 'PHP C# Python C Java C++' as the only\n",
    "# element, then split it on the basis of spaces\n",
    "import numpy as np\n",
    "\n",
    "# Create a numpy array with a single string element\n",
    "string_array = np.array(['PHP C# Python C Java C++'])\n",
    "\n",
    "# Split the string on spaces\n",
    "split_result = np.char.split(string_array)\n",
    "\n",
    "# Access the split result as a list\n",
    "split_list = split_result[0]\n",
    "\n",
    "print(\"Original String Array:\")\n",
    "print(string_array)\n",
    "\n",
    "print(\"\\nSplit Result as a List:\")\n",
    "print(split_list)\n"
   ]
  }
 ],
 "metadata": {
  "colab": {
   "provenance": []
  },
  "kernelspec": {
   "display_name": "Python 3 (ipykernel)",
   "language": "python",
   "name": "python3"
  },
  "language_info": {
   "codemirror_mode": {
    "name": "ipython",
    "version": 3
   },
   "file_extension": ".py",
   "mimetype": "text/x-python",
   "name": "python",
   "nbconvert_exporter": "python",
   "pygments_lexer": "ipython3",
   "version": "3.11.7"
  }
 },
 "nbformat": 4,
 "nbformat_minor": 4
}
