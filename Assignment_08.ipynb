{
  "nbformat": 4,
  "nbformat_minor": 0,
  "metadata": {
    "colab": {
      "provenance": []
    },
    "kernelspec": {
      "name": "python3",
      "display_name": "Python 3"
    },
    "language_info": {
      "name": "python"
    }
  },
  "cells": [
    {
      "cell_type": "markdown",
      "source": [
        "**Assignment 08**"
      ],
      "metadata": {
        "id": "akYnIOLxZKz8"
      }
    },
    {
      "cell_type": "markdown",
      "source": [
        "**Q.1 You are given a dataset (data.csv) containing two columns - 'X' (independent variable) and 'y' (dependent variahle) Implement a simple linear regression model using Python tn predict 'y  hased on 'X'. Load the dataset, split it into training and testing sets, and train the linear regression model. Finally, predict the values for the test set and calculate the mean squared error.**\n",
        "\n",
        "Dataset (data.csv):\n",
        "\n",
        "X,y\n",
        "\n",
        "1,2\n",
        "\n",
        "2,4\n",
        "\n",
        "3,7\n",
        "\n",
        "4,9\n",
        "\n",
        "5,11\n",
        "\n",
        "6,16"
      ],
      "metadata": {
        "id": "FHDgoVUrepy0"
      }
    },
    {
      "cell_type": "code",
      "execution_count": 4,
      "metadata": {
        "colab": {
          "base_uri": "https://localhost:8080/"
        },
        "id": "dQuNNTezY8Cg",
        "outputId": "3b931313-8d08-4387-e5fc-1a4931dffdba"
      },
      "outputs": [
        {
          "output_type": "stream",
          "name": "stdout",
          "text": [
            "Mean Squared Error: 1.104999999999996\n"
          ]
        }
      ],
      "source": [
        "import numpy as np\n",
        "from sklearn.model_selection import train_test_split\n",
        "from sklearn.linear_model import LinearRegression\n",
        "from sklearn.metrics import mean_squared_error\n",
        "\n",
        "# Manually create the dataset\n",
        "data = {\n",
        "    'X': [1, 2, 3, 4, 5, 6],\n",
        "    'y': [2, 4, 7, 9, 11, 16]\n",
        "}\n",
        "\n",
        "# Convert the data dictionary to a pandas DataFrame\n",
        "data = pd.DataFrame(data)\n",
        "\n",
        "# Split the dataset into independent (X) and dependent (y) variables\n",
        "X = data[['X']]\n",
        "y = data['y']\n",
        "\n",
        "# Split the dataset into training and testing sets\n",
        "X_train, X_test, y_train, y_test = train_test_split(X, y, test_size=0.2, random_state=42)\n",
        "\n",
        "# Train the linear regression model\n",
        "model = LinearRegression()\n",
        "model.fit(X_train, y_train)\n",
        "\n",
        "# Predict the values for the test set\n",
        "y_pred = model.predict(X_test)\n",
        "\n",
        "# Calculate the mean squared error\n",
        "mse = mean_squared_error(y_test, y_pred)\n",
        "print(\"Mean Squared Error:\", mse)\n"
      ]
    },
    {
      "cell_type": "markdown",
      "source": [
        "**Q.2 You are provided with a dataset (data.csv) containing three columns - 'featurel', 'feature2', and 'target' (binary classification). Implement a Decision Tree classifier using Python to predict the 'target' based on the features. Load the dataset, split It Into training and testing sets, and train the Decision Tree model. Finally, predict the values for the test set and calculate the accuracy.**\n",
        "\n",
        "Dataset (data.csv):\n",
        "\n",
        "featurel,feature2,target\n",
        "\n",
        "1,2,0\n",
        "\n",
        "2,4,1\n",
        "\n",
        "3,7,0\n",
        "\n",
        "4,9,1\n",
        "\n",
        "5,11,0\n",
        "\n",
        "6,16,1"
      ],
      "metadata": {
        "id": "MBmgwgdReuOi"
      }
    },
    {
      "cell_type": "code",
      "source": [
        "from sklearn.model_selection import train_test_split\n",
        "from sklearn.tree import DecisionTreeClassifier\n",
        "from sklearn.metrics import accuracy_score\n",
        "import pandas as pd\n",
        "\n",
        "# Manually create the dataset\n",
        "data = {\n",
        "    'feature1': [1, 2, 3, 4, 5, 6],\n",
        "    'feature2': [2, 4, 7, 9, 11, 16],\n",
        "    'target': [0, 1, 0, 1, 0, 1]\n",
        "}\n",
        "\n",
        "# Convert the data dictionary to a pandas DataFrame\n",
        "data = pd.DataFrame(data)\n",
        "\n",
        "# Split the dataset into features (X) and target (y)\n",
        "X = data[['feature1', 'feature2']]\n",
        "y = data['target']\n",
        "\n",
        "# Split the dataset into training and testing sets\n",
        "X_train, X_test, y_train, y_test = train_test_split(X, y, test_size=0.2, random_state=42)\n",
        "\n",
        "# Train the Decision Tree classifier\n",
        "model = DecisionTreeClassifier()\n",
        "model.fit(X_train, y_train)\n",
        "\n",
        "# Predict the values for the test set\n",
        "y_pred = model.predict(X_test)\n",
        "\n",
        "# Calculate the accuracy\n",
        "accuracy = accuracy_score(y_test, y_pred)\n",
        "print(\"Accuracy:\", accuracy)\n"
      ],
      "metadata": {
        "colab": {
          "base_uri": "https://localhost:8080/"
        },
        "id": "NS1EpSWpe-D7",
        "outputId": "dc9a1644-4f76-4c00-cefd-c0b459616468"
      },
      "execution_count": 3,
      "outputs": [
        {
          "output_type": "stream",
          "name": "stdout",
          "text": [
            "Accuracy: 0.5\n"
          ]
        }
      ]
    }
  ]
}